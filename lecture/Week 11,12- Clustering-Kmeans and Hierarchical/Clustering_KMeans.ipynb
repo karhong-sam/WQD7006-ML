{
  "nbformat": 4,
  "nbformat_minor": 0,
  "metadata": {
    "colab": {
      "provenance": []
    },
    "kernelspec": {
      "name": "python3",
      "display_name": "Python 3"
    },
    "language_info": {
      "name": "python"
    }
  },
  "cells": [
    {
      "cell_type": "code",
      "execution_count": 1,
      "metadata": {
        "colab": {
          "base_uri": "https://localhost:8080/",
          "height": 484
        },
        "id": "7fjbgBx5rxbt",
        "outputId": "11fe5ebc-c1b3-4682-d127-520abdc4ebff"
      },
      "outputs": [
        {
          "output_type": "stream",
          "name": "stdout",
          "text": [
            "Current centroids coordiante:[array([1., 1.]), array([5., 7.])]\n"
          ]
        },
        {
          "output_type": "execute_result",
          "data": {
            "text/plain": [
              "Text(0, 0.5, 'y')"
            ]
          },
          "metadata": {},
          "execution_count": 1
        },
        {
          "output_type": "display_data",
          "data": {
            "text/plain": [
              "<Figure size 640x480 with 1 Axes>"
            ],
            "image/png": "[encoded data removed]"
          },
          "metadata": {}
        }
      ],
      "source": [
        "import numpy as np\n",
        "import pandas as pd\n",
        "import math\n",
        "import matplotlib.pyplot as plt\n",
        "\n",
        "# Data\n",
        "x = np.array([[1,1],[1.5,2],[3,4],[5,7],[3.5,5],[4.5,5],[3.5,4.5]])\n",
        "\n",
        "dist_c1 = np.zeros(len(x)) #distance to centroid 1 (centroid 1 is the 'center' of cluster 1)\n",
        "dist_c2 = np.zeros(len(x)) #distance to centroid 2 (centroid 2 is the 'center' of cluster 2)\n",
        "\n",
        "centroid_assign = np.zeros(len(x)) # a list that indicate which datapoints belongs to which centroid\n",
        "\n",
        "#the x-y coordinates for centroid 1 and 2\n",
        "#this is initialized randomly\n",
        "centroid =[x[0],x[3]]\n",
        "print(f'Current centroids coordiante:{centroid}')\n",
        "\n",
        "plt.scatter(x[:,0],x[:,1])\n",
        "plt.xlabel('x')\n",
        "plt.ylabel('y')\n"
      ]
    },
    {
      "cell_type": "code",
      "source": [
        "def euclid_distance(datapoints,centroid):\n",
        "\n",
        "  return [math.dist(x,centroid) for x in datapoints]\n",
        "\n",
        "def recalculate_centroid(centroid_assign,centroid_val):\n",
        "\n",
        "  cluster_data = [x[idx] for idx,val in enumerate(centroid_assign) if val==centroid_val]\n",
        "\n",
        "  #print(f'Datapoints for centroid {centroid_val} :{cluster_data}')\n",
        "\n",
        "  return np.sum(cluster_data,axis=0)/len(cluster_data)\n",
        "\n",
        "# 1.Calculate distance of all datapoints to centroids\n",
        "print('Datapoints \\n',x)\n",
        "stop_flag = False\n",
        "\n",
        "while (stop_flag==False):\n",
        "\n",
        "  new_dist_c1 = euclid_distance(x,centroid[0])\n",
        "  new_dist_c2 = euclid_distance(x,centroid[1])\n",
        "\n",
        "  stop_flag = np.array_equal(new_dist_c1,dist_c1)\n",
        "\n",
        "  if (stop_flag): #break the loop if the distance does not change\n",
        "    print('---Centroids does not change----')\n",
        "    break\n",
        "\n",
        "  dist_c1 = new_dist_c1\n",
        "  dist_c2 = new_dist_c2\n",
        "\n",
        "  # 2.For each datapoint, assign a centroid that it is nearest to\n",
        "  for idx,val in enumerate(dist_c1):\n",
        "    if val<=dist_c2[idx]:\n",
        "      centroid_assign[idx]=1\n",
        "    else:\n",
        "      centroid_assign[idx]=2\n",
        "\n",
        "  print(f'Current centroid 1:{centroid[0]} centroid 2:{centroid[1]}')\n",
        "  print('Datapoints distance to centroid 1',dist_c1)\n",
        "  print('Datapoints distance to centroid 2',dist_c2)\n",
        "  print('Assign centroid ',centroid_assign)\n",
        "\n",
        "\n",
        "\n",
        "  # 3.Recalculate new centroids\n",
        "  centroid[0] = recalculate_centroid(centroid_assign,1)\n",
        "  centroid[1] = recalculate_centroid(centroid_assign,2)\n",
        "  print(f'New centroids:{centroid} \\n')\n",
        "\n",
        "\n"
      ],
      "metadata": {
        "id": "TSGwI1hwHkba",
        "colab": {
          "base_uri": "https://localhost:8080/"
        },
        "outputId": "f4fdebbe-481f-4607-a45e-bc80b84642d2"
      },
      "execution_count": 2,
      "outputs": [
        {
          "output_type": "stream",
          "name": "stdout",
          "text": [
            "Datapoints \n",
            " [[1.  1. ]\n",
            " [1.5 2. ]\n",
            " [3.  4. ]\n",
            " [5.  7. ]\n",
            " [3.5 5. ]\n",
            " [4.5 5. ]\n",
            " [3.5 4.5]]\n",
            "Current centroid 1:[1. 1.] centroid 2:[5. 7.]\n",
            "Datapoints distance to centroid 1 [0.0, 1.118033988749895, 3.605551275463989, 7.211102550927978, 4.716990566028302, 5.315072906367325, 4.301162633521313]\n",
            "Datapoints distance to centroid 2 [7.211102550927978, 6.103277807866851, 3.605551275463989, 0.0, 2.5, 2.0615528128088303, 2.9154759474226504]\n",
            "Assign centroid  [1. 1. 1. 2. 2. 2. 2.]\n",
            "New centroids:[array([1.83333333, 2.33333333]), array([4.125, 5.375])] \n",
            "\n",
            "Current centroid 1:[1.83333333 2.33333333] centroid 2:[4.125 5.375]\n",
            "Datapoints distance to centroid 1 [1.5723301886761007, 0.47140452079103173, 2.034425935955617, 5.639641438562877, 3.144660377352201, 3.7712361663282534, 2.733536577809454]\n",
            "Datapoints distance to centroid 2 [5.376453291901642, 4.275657844121768, 1.776583800443987, 1.845602882529175, 0.7288689868556626, 0.5303300858899106, 1.0752906583803283]\n",
            "Assign centroid  [1. 1. 2. 2. 2. 2. 2.]\n",
            "New centroids:[array([1.25, 1.5 ]), array([3.9, 5.1])] \n",
            "\n",
            "Current centroid 1:[1.25 1.5 ] centroid 2:[3.9 5.1]\n",
            "Datapoints distance to centroid 1 [0.5590169943749475, 0.5590169943749475, 3.0516389039334255, 6.656763477847174, 4.16082924427331, 4.7762432936357, 3.75]\n",
            "Datapoints distance to centroid 2 [5.021951811795887, 3.9204591567825315, 1.4212670403551892, 2.1954498400100153, 0.4123105625617659, 0.608276253029822, 0.7211102550927975]\n",
            "Assign centroid  [1. 1. 2. 2. 2. 2. 2.]\n",
            "New centroids:[array([1.25, 1.5 ]), array([3.9, 5.1])] \n",
            "\n",
            "---Centroids does not change----\n"
          ]
        }
      ]
    }
  ]
}