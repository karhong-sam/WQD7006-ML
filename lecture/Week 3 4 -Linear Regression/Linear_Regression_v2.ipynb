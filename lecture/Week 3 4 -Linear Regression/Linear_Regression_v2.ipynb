{
  "nbformat": 4,
  "nbformat_minor": 0,
  "metadata": {
    "colab": {
      "provenance": []
    },
    "kernelspec": {
      "name": "python3",
      "display_name": "Python 3"
    },
    "language_info": {
      "name": "python"
    }
  },
  "cells": [
    {
      "cell_type": "markdown",
      "source": [
        "This is just a simplified notebook for the original Linear regression tutorial\n",
        "\n",
        "Source : https://www.kaggle.com/code/sudhirnl7/linear-regression-tutorial"
      ],
      "metadata": {
        "id": "SHxvK4U2eqII"
      }
    },
    {
      "cell_type": "markdown",
      "source": [
        "# 1.One-variable Linear Regression\n",
        "\n",
        "## 1.1 Load the data"
      ],
      "metadata": {
        "id": "MULF1T9VMCGd"
      }
    },
    {
      "cell_type": "code",
      "execution_count": 153,
      "metadata": {
        "id": "82WT_epIZ9te",
        "colab": {
          "base_uri": "https://localhost:8080/"
        },
        "outputId": "bfbca540-f1c1-4c76-c522-8cc2ab3f145f"
      },
      "outputs": [
        {
          "output_type": "stream",
          "name": "stdout",
          "text": [
            "Drive already mounted at /content/drive; to attempt to forcibly remount, call drive.mount(\"/content/drive\", force_remount=True).\n"
          ]
        }
      ],
      "source": [
        "import numpy as np\n",
        "import pandas as pd\n",
        "import matplotlib.pyplot as plt\n",
        "import seaborn as sns\n",
        "\n",
        "\n",
        "#df = pd.read_csv('insurance.csv') #load the csv dataset into a 'dataframe' df\n",
        "\n",
        "#You can mount the file on your google drive and load it. To make life easier, just make sure your directory doesn't have spaces\n",
        "#Example    /Dataset/machine learning <<<This directory has spaces\n",
        "from google.colab import drive\n",
        "drive.mount('/content/drive')\n",
        "df = pd.read_csv('/content/drive/MyDrive/Dataset/insurance.csv') #load the csv dataset into a 'dataframe' df"
      ]
    },
    {
      "cell_type": "markdown",
      "source": [
        "## 1.2 Explore the data"
      ],
      "metadata": {
        "id": "SqlgR2ZkWxnq"
      }
    },
    {
      "cell_type": "code",
      "source": [
        "df.sample(5)\n",
        "#df.head(5) #this shows the TOP 5 rows/records/samples/observations of the dataset\n",
        "#df.tail(5) #this shows the BOTTOM 5 rows/records/samples/observations of the dataset\n",
        "#df.sample(3) #df.sample sample randomly from the dataset"
      ],
      "metadata": {
        "colab": {
          "base_uri": "https://localhost:8080/",
          "height": 206
        },
        "id": "RSDyRsGdWg79",
        "outputId": "406d015e-10c8-489f-c252-b157465e9720"
      },
      "execution_count": 154,
      "outputs": [
        {
          "output_type": "execute_result",
          "data": {
            "text/plain": [
              "     age     sex    bmi  children smoker     region     charges\n",
              "331   52    male  27.36         0    yes  northwest  24393.6224\n",
              "66    61  female  39.10         2     no  southwest  14235.0720\n",
              "196   39  female  32.80         0     no  southwest   5649.7150\n",
              "824   60    male  24.32         0     no  northwest  12523.6048\n",
              "98    56    male  19.95         0    yes  northeast  22412.6485"
            ],
            "text/html": [
              "\n",
              "  <div id=\"df-d839bfb6-8a2b-4952-883c-21b849334a8e\" class=\"colab-df-container\">\n",
              "    <div>\n",
              "<style scoped>\n",
              "    .dataframe tbody tr th:only-of-type {\n",
              "        vertical-align: middle;\n",
              "    }\n",
              "\n",
              "    .dataframe tbody tr th {\n",
              "        vertical-align: top;\n",
              "    }\n",
              "\n",
              "    .dataframe thead th {\n",
              "        text-align: right;\n",
              "    }\n",
              "</style>\n",
              "<table border=\"1\" class=\"dataframe\">\n",
              "  <thead>\n",
              "    <tr style=\"text-align: right;\">\n",
              "      <th></th>\n",
              "      <th>age</th>\n",
              "      <th>sex</th>\n",
              "      <th>bmi</th>\n",
              "      <th>children</th>\n",
              "      <th>smoker</th>\n",
              "      <th>region</th>\n",
              "      <th>charges</th>\n",
              "    </tr>\n",
              "  </thead>\n",
              "  <tbody>\n",
              "    <tr>\n",
              "      <th>331</th>\n",
              "      <td>52</td>\n",
              "      <td>male</td>\n",
              "      <td>27.36</td>\n",
              "      <td>0</td>\n",
              "      <td>yes</td>\n",
              "      <td>northwest</td>\n",
              "      <td>24393.6224</td>\n",
              "    </tr>\n",
              "    <tr>\n",
              "      <th>66</th>\n",
              "      <td>61</td>\n",
              "      <td>female</td>\n",
              "      <td>39.10</td>\n",
              "      <td>2</td>\n",
              "      <td>no</td>\n",
              "      <td>southwest</td>\n",
              "      <td>14235.0720</td>\n",
              "    </tr>\n",
              "    <tr>\n",
              "      <th>196</th>\n",
              "      <td>39</td>\n",
              "      <td>female</td>\n",
              "      <td>32.80</td>\n",
              "      <td>0</td>\n",
              "      <td>no</td>\n",
              "      <td>southwest</td>\n",
              "      <td>5649.7150</td>\n",
              "    </tr>\n",
              "    <tr>\n",
              "      <th>824</th>\n",
              "      <td>60</td>\n",
              "      <td>male</td>\n",
              "      <td>24.32</td>\n",
              "      <td>0</td>\n",
              "      <td>no</td>\n",
              "      <td>northwest</td>\n",
              "      <td>12523.6048</td>\n",
              "    </tr>\n",
              "    <tr>\n",
              "      <th>98</th>\n",
              "      <td>56</td>\n",
              "      <td>male</td>\n",
              "      <td>19.95</td>\n",
              "      <td>0</td>\n",
              "      <td>yes</td>\n",
              "      <td>northeast</td>\n",
              "      <td>22412.6485</td>\n",
              "    </tr>\n",
              "  </tbody>\n",
              "</table>\n",
              "</div>\n",
              "    <div class=\"colab-df-buttons\">\n",
              "\n",
              "  <div class=\"colab-df-container\">\n",
              "    <button class=\"colab-df-convert\" onclick=\"convertToInteractive('df-d839bfb6-8a2b-4952-883c-21b849334a8e')\"\n",
              "            title=\"Convert this dataframe to an interactive table.\"\n",
              "            style=\"display:none;\">\n",
              "\n",
              "  <svg xmlns=\"http://www.w3.org/2000/svg\" height=\"24px\" viewBox=\"0 -960 960 960\">\n",
              "    <path d=\"M120-120v-720h720v720H120Zm60-500h600v-160H180v160Zm220 220h160v-160H400v160Zm0 220h160v-160H400v160ZM180-400h160v-160H180v160Zm440 0h160v-160H620v160ZM180-180h160v-160H180v160Zm440 0h160v-160H620v160Z\"/>\n",
              "  </svg>\n",
              "    </button>\n",
              "\n",
              "  <style>\n",
              "    .colab-df-container {\n",
              "      display:flex;\n",
              "      gap: 12px;\n",
              "    }\n",
              "\n",
              "    .colab-df-convert {\n",
              "      background-color: #E8F0FE;\n",
              "      border: none;\n",
              "      border-radius: 50%;\n",
              "      cursor: pointer;\n",
              "      display: none;\n",
              "      fill: #1967D2;\n",
              "      height: 32px;\n",
              "      padding: 0 0 0 0;\n",
              "      width: 32px;\n",
              "    }\n",
              "\n",
              "    .colab-df-convert:hover {\n",
              "      background-color: #E2EBFA;\n",
              "      box-shadow: 0px 1px 2px rgba(60, 64, 67, 0.3), 0px 1px 3px 1px rgba(60, 64, 67, 0.15);\n",
              "      fill: #174EA6;\n",
              "    }\n",
              "\n",
              "    .colab-df-buttons div {\n",
              "      margin-bottom: 4px;\n",
              "    }\n",
              "\n",
              "    [theme=dark] .colab-df-convert {\n",
              "      background-color: #3B4455;\n",
              "      fill: #D2E3FC;\n",
              "    }\n",
              "\n",
              "    [theme=dark] .colab-df-convert:hover {\n",
              "      background-color: #434B5C;\n",
              "      box-shadow: 0px 1px 3px 1px rgba(0, 0, 0, 0.15);\n",
              "      filter: drop-shadow(0px 1px 2px rgba(0, 0, 0, 0.3));\n",
              "      fill: #FFFFFF;\n",
              "    }\n",
              "  </style>\n",
              "\n",
              "    <script>\n",
              "      const buttonEl =\n",
              "        document.querySelector('#df-d839bfb6-8a2b-4952-883c-21b849334a8e button.colab-df-convert');\n",
              "      buttonEl.style.display =\n",
              "        google.colab.kernel.accessAllowed ? 'block' : 'none';\n",
              "\n",
              "      async function convertToInteractive(key) {\n",
              "        const element = document.querySelector('#df-d839bfb6-8a2b-4952-883c-21b849334a8e');\n",
              "        const dataTable =\n",
              "          await google.colab.kernel.invokeFunction('convertToInteractive',\n",
              "                                                    [key], {});\n",
              "        if (!dataTable) return;\n",
              "\n",
              "        const docLinkHtml = 'Like what you see? Visit the ' +\n",
              "          '<a target=\"_blank\" href=https://colab.research.google.com/notebooks/data_table.ipynb>data table notebook</a>'\n",
              "          + ' to learn more about interactive tables.';\n",
              "        element.innerHTML = '';\n",
              "        dataTable['output_type'] = 'display_data';\n",
              "        await google.colab.output.renderOutput(dataTable, element);\n",
              "        const docLink = document.createElement('div');\n",
              "        docLink.innerHTML = docLinkHtml;\n",
              "        element.appendChild(docLink);\n",
              "      }\n",
              "    </script>\n",
              "  </div>\n",
              "\n",
              "\n",
              "<div id=\"df-62918b7b-e153-4703-bcc8-cf0276c31a91\">\n",
              "  <button class=\"colab-df-quickchart\" onclick=\"quickchart('df-62918b7b-e153-4703-bcc8-cf0276c31a91')\"\n",
              "            title=\"Suggest charts.\"\n",
              "            style=\"display:none;\">\n",
              "\n",
              "<svg xmlns=\"http://www.w3.org/2000/svg\" height=\"24px\"viewBox=\"0 0 24 24\"\n",
              "     width=\"24px\">\n",
              "    <g>\n",
              "        <path d=\"M19 3H5c-1.1 0-2 .9-2 2v14c0 1.1.9 2 2 2h14c1.1 0 2-.9 2-2V5c0-1.1-.9-2-2-2zM9 17H7v-7h2v7zm4 0h-2V7h2v10zm4 0h-2v-4h2v4z\"/>\n",
              "    </g>\n",
              "</svg>\n",
              "  </button>\n",
              "\n",
              "<style>\n",
              "  .colab-df-quickchart {\n",
              "      --bg-color: #E8F0FE;\n",
              "      --fill-color: #1967D2;\n",
              "      --hover-bg-color: #E2EBFA;\n",
              "      --hover-fill-color: #174EA6;\n",
              "      --disabled-fill-color: #AAA;\n",
              "      --disabled-bg-color: #DDD;\n",
              "  }\n",
              "\n",
              "  [theme=dark] .colab-df-quickchart {\n",
              "      --bg-color: #3B4455;\n",
              "      --fill-color: #D2E3FC;\n",
              "      --hover-bg-color: #434B5C;\n",
              "      --hover-fill-color: #FFFFFF;\n",
              "      --disabled-bg-color: #3B4455;\n",
              "      --disabled-fill-color: #666;\n",
              "  }\n",
              "\n",
              "  .colab-df-quickchart {\n",
              "    background-color: var(--bg-color);\n",
              "    border: none;\n",
              "    border-radius: 50%;\n",
              "    cursor: pointer;\n",
              "    display: none;\n",
              "    fill: var(--fill-color);\n",
              "    height: 32px;\n",
              "    padding: 0;\n",
              "    width: 32px;\n",
              "  }\n",
              "\n",
              "  .colab-df-quickchart:hover {\n",
              "    background-color: var(--hover-bg-color);\n",
              "    box-shadow: 0 1px 2px rgba(60, 64, 67, 0.3), 0 1px 3px 1px rgba(60, 64, 67, 0.15);\n",
              "    fill: var(--button-hover-fill-color);\n",
              "  }\n",
              "\n",
              "  .colab-df-quickchart-complete:disabled,\n",
              "  .colab-df-quickchart-complete:disabled:hover {\n",
              "    background-color: var(--disabled-bg-color);\n",
              "    fill: var(--disabled-fill-color);\n",
              "    box-shadow: none;\n",
              "  }\n",
              "\n",
              "  .colab-df-spinner {\n",
              "    border: 2px solid var(--fill-color);\n",
              "    border-color: transparent;\n",
              "    border-bottom-color: var(--fill-color);\n",
              "    animation:\n",
              "      spin 1s steps(1) infinite;\n",
              "  }\n",
              "\n",
              "  @keyframes spin {\n",
              "    0% {\n",
              "      border-color: transparent;\n",
              "      border-bottom-color: var(--fill-color);\n",
              "      border-left-color: var(--fill-color);\n",
              "    }\n",
              "    20% {\n",
              "      border-color: transparent;\n",
              "      border-left-color: var(--fill-color);\n",
              "      border-top-color: var(--fill-color);\n",
              "    }\n",
              "    30% {\n",
              "      border-color: transparent;\n",
              "      border-left-color: var(--fill-color);\n",
              "      border-top-color: var(--fill-color);\n",
              "      border-right-color: var(--fill-color);\n",
              "    }\n",
              "    40% {\n",
              "      border-color: transparent;\n",
              "      border-right-color: var(--fill-color);\n",
              "      border-top-color: var(--fill-color);\n",
              "    }\n",
              "    60% {\n",
              "      border-color: transparent;\n",
              "      border-right-color: var(--fill-color);\n",
              "    }\n",
              "    80% {\n",
              "      border-color: transparent;\n",
              "      border-right-color: var(--fill-color);\n",
              "      border-bottom-color: var(--fill-color);\n",
              "    }\n",
              "    90% {\n",
              "      border-color: transparent;\n",
              "      border-bottom-color: var(--fill-color);\n",
              "    }\n",
              "  }\n",
              "</style>\n",
              "\n",
              "  <script>\n",
              "    async function quickchart(key) {\n",
              "      const quickchartButtonEl =\n",
              "        document.querySelector('#' + key + ' button');\n",
              "      quickchartButtonEl.disabled = true;  // To prevent multiple clicks.\n",
              "      quickchartButtonEl.classList.add('colab-df-spinner');\n",
              "      try {\n",
              "        const charts = await google.colab.kernel.invokeFunction(\n",
              "            'suggestCharts', [key], {});\n",
              "      } catch (error) {\n",
              "        console.error('Error during call to suggestCharts:', error);\n",
              "      }\n",
              "      quickchartButtonEl.classList.remove('colab-df-spinner');\n",
              "      quickchartButtonEl.classList.add('colab-df-quickchart-complete');\n",
              "    }\n",
              "    (() => {\n",
              "      let quickchartButtonEl =\n",
              "        document.querySelector('#df-62918b7b-e153-4703-bcc8-cf0276c31a91 button');\n",
              "      quickchartButtonEl.style.display =\n",
              "        google.colab.kernel.accessAllowed ? 'block' : 'none';\n",
              "    })();\n",
              "  </script>\n",
              "</div>\n",
              "    </div>\n",
              "  </div>\n"
            ]
          },
          "metadata": {},
          "execution_count": 154
        }
      ]
    },
    {
      "cell_type": "code",
      "source": [
        "df.info()\n",
        "# --Checklist--\n",
        "#Q1 How many rows and columns does the dataset have?\n",
        "#Q2 Which are the feature(independant variable(s)) columns, and which is/are the target output (dependant variable(s))?\n",
        "#Q3 Is the target output suitable for a regression or a classification problem?\n",
        "#Q4 For each of the variables, what is the datatypes?\n",
        "#Q5 Which variable is non-informative  or \"useless\""
      ],
      "metadata": {
        "colab": {
          "base_uri": "https://localhost:8080/"
        },
        "id": "LMcanfKQaQ6d",
        "outputId": "f59fb336-69fb-4108-97bd-46fdeaf2d3c5"
      },
      "execution_count": 138,
      "outputs": [
        {
          "output_type": "stream",
          "name": "stdout",
          "text": [
            "<class 'pandas.core.frame.DataFrame'>\n",
            "RangeIndex: 1338 entries, 0 to 1337\n",
            "Data columns (total 7 columns):\n",
            " #   Column    Non-Null Count  Dtype  \n",
            "---  ------    --------------  -----  \n",
            " 0   age       1338 non-null   int64  \n",
            " 1   sex       1338 non-null   object \n",
            " 2   bmi       1338 non-null   float64\n",
            " 3   children  1338 non-null   int64  \n",
            " 4   smoker    1338 non-null   object \n",
            " 5   region    1338 non-null   object \n",
            " 6   charges   1338 non-null   float64\n",
            "dtypes: float64(2), int64(2), object(3)\n",
            "memory usage: 73.3+ KB\n"
          ]
        }
      ]
    },
    {
      "cell_type": "markdown",
      "source": [
        "## 1.3 Select one variable data\n",
        "\n",
        "BMI vs insurance charges among those who smoke.\n",
        "\n",
        "* Let's take a look at just one variable. We select people who smoke, their BMI and the amount of insurance charges that they have to pay. And then we visualize it.\n",
        "\n",
        "* As we can see below, the higher the BMI (the more obese a smoker person is), the more expensive the amount of insurance charges. This is logical and fits our intuition/hypothesis."
      ],
      "metadata": {
        "id": "giMAzN84OGo6"
      }
    },
    {
      "cell_type": "code",
      "source": [
        "df = df[df['smoker']=='yes'] #this selects the rows of data of people who smokes\n",
        "df.info()\n",
        "df.plot.scatter(x='bmi',y='charges')"
      ],
      "metadata": {
        "colab": {
          "base_uri": "https://localhost:8080/",
          "height": 723
        },
        "id": "nyWSiKH_aXae",
        "outputId": "1f2fdb89-465e-4491-8540-80ffe1c06223"
      },
      "execution_count": 139,
      "outputs": [
        {
          "output_type": "stream",
          "name": "stdout",
          "text": [
            "<class 'pandas.core.frame.DataFrame'>\n",
            "Int64Index: 274 entries, 0 to 1337\n",
            "Data columns (total 7 columns):\n",
            " #   Column    Non-Null Count  Dtype  \n",
            "---  ------    --------------  -----  \n",
            " 0   age       274 non-null    int64  \n",
            " 1   sex       274 non-null    object \n",
            " 2   bmi       274 non-null    float64\n",
            " 3   children  274 non-null    int64  \n",
            " 4   smoker    274 non-null    object \n",
            " 5   region    274 non-null    object \n",
            " 6   charges   274 non-null    float64\n",
            "dtypes: float64(2), int64(2), object(3)\n",
            "memory usage: 17.1+ KB\n"
          ]
        },
        {
          "output_type": "execute_result",
          "data": {
            "text/plain": [
              "<Axes: xlabel='bmi', ylabel='charges'>"
            ]
          },
          "metadata": {},
          "execution_count": 139
        },
        {
          "output_type": "display_data",
          "data": {
            "text/plain": [
              "<Figure size 640x480 with 1 Axes>"
            ],
            "image/png": "[encoded data removed]"
          },
          "metadata": {}
        }
      ]
    },
    {
      "cell_type": "markdown",
      "source": [
        "# 1.3 Prepare the training and test dataset"
      ],
      "metadata": {
        "id": "CFL1-TxhPAiX"
      }
    },
    {
      "cell_type": "code",
      "source": [
        "from sklearn.model_selection import train_test_split\n",
        "\n",
        "\n",
        "X = df[['bmi']] # Select your feature of choices here. Replace 'bmi' with the name of columns in the dataset of your choice\n",
        "y = df[['charges']] # Target output/dependent variable\n",
        "\n",
        "#plt.scatter(X,y)\n",
        "\n",
        "# Split the dataset into training and testing.\n",
        "# This function randonly samples the data and split into training and testing data\n",
        "# test_size =0.3 means that the ratio of train vs training is 70:30\n",
        "# Normally, the ratio is set as 80:20, 70:30,\n",
        "X_train, X_test, y_train, y_test = train_test_split(X,y,test_size=0.3,random_state=23)\n",
        "\n",
        "\n",
        "print(X_train.shape)\n",
        "print(f' The length of the training dataset is : {len(X_train)}')\n",
        "print(f' The length of the test dataset is : {len(X_test)}')\n",
        "\n"
      ],
      "metadata": {
        "colab": {
          "base_uri": "https://localhost:8080/"
        },
        "id": "umibeaHyeoNG",
        "outputId": "3b0a319d-0d85-4d31-d64a-acca8118e07b"
      },
      "execution_count": 140,
      "outputs": [
        {
          "output_type": "stream",
          "name": "stdout",
          "text": [
            "(191, 1)\n",
            " The length of the training dataset is : 191\n",
            " The length of the test dataset is : 83\n"
          ]
        }
      ]
    },
    {
      "cell_type": "code",
      "source": [],
      "metadata": {
        "id": "3nCUhxHWfEj0"
      },
      "execution_count": null,
      "outputs": []
    },
    {
      "cell_type": "markdown",
      "source": [
        "## 1.4 Train the model on train data\n",
        " * https://scikit-learn.org/stable/modules/generated/sklearn.linear_model.LinearRegression.html\n"
      ],
      "metadata": {
        "id": "LiAyO3REPLuJ"
      }
    },
    {
      "cell_type": "code",
      "source": [
        "# Scikit Learn module\n",
        "from sklearn.linear_model import LinearRegression\n",
        "\n",
        "#As you can see, there is not much of hyper parameters of the algorithm that you can optimize here\n",
        "\n",
        "lin_reg = LinearRegression() #applies all the cost function J, gradient descent implicitly. we dont need to think about it.\n",
        "lin_reg.fit(X_train,y_train) # Note: x_0 =1 is no need to add, sklearn will take care of it.\n",
        "\n",
        "\n",
        "#print(f'Parameters m: {lin_reg.coef_}')\n",
        "#print(f'Intercept c: {lin_reg.intercept_}')\n",
        "\n",
        "print(f'Parameters m/theta_1: {lin_reg.coef_}')\n",
        "print(f'Intercept c/theta_0: {lin_reg.intercept_}')\n"
      ],
      "metadata": {
        "colab": {
          "base_uri": "https://localhost:8080/"
        },
        "id": "f2ud4NbvO-6e",
        "outputId": "e474623c-00e6-442d-dbb9-063a3e545a0e"
      },
      "execution_count": 141,
      "outputs": [
        {
          "output_type": "stream",
          "name": "stdout",
          "text": [
            "Parameters m/theta_1: [[1423.46160086]]\n",
            "Intercept c/theta_0: [-11592.27433655]\n"
          ]
        }
      ]
    },
    {
      "cell_type": "markdown",
      "source": [
        "## 1.5 Evaluate the model on test data\n",
        "\n",
        "### R2 Score"
      ],
      "metadata": {
        "id": "iySNx6VgPSx0"
      }
    },
    {
      "cell_type": "markdown",
      "source": [
        "![image.png](data:image/png;base64,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)"
      ],
      "metadata": {
        "id": "V9i5JGbrug6-"
      }
    },
    {
      "cell_type": "code",
      "source": [
        "print(f'R2 score {lin_reg.score(X_test,y_test)}') # we want R2 score to be close to 1 (Better accuracy)"
      ],
      "metadata": {
        "colab": {
          "base_uri": "https://localhost:8080/"
        },
        "id": "S504-v6bPTnO",
        "outputId": "97d2097f-ea51-43cb-9690-2a33a9f385d2"
      },
      "execution_count": 142,
      "outputs": [
        {
          "output_type": "stream",
          "name": "stdout",
          "text": [
            "R2 score 0.7071273310571426\n"
          ]
        }
      ]
    },
    {
      "cell_type": "markdown",
      "source": [
        "### Visualize the Regression line"
      ],
      "metadata": {
        "id": "mUfk6_e0uj8W"
      }
    },
    {
      "cell_type": "code",
      "source": [
        "y_pred = lin_reg.predict(X)\n",
        "\n",
        "\n",
        "plt.scatter(X,y)\n",
        "plt.plot(X,y_pred,color='red')\n",
        "plt.legend(['data','prediction'])\n",
        "plt.show()\n"
      ],
      "metadata": {
        "colab": {
          "base_uri": "https://localhost:8080/",
          "height": 430
        },
        "id": "A41xMLJ4r_QV",
        "outputId": "e584dbc9-15af-4d3e-82c7-a422fcf53282"
      },
      "execution_count": 143,
      "outputs": [
        {
          "output_type": "display_data",
          "data": {
            "text/plain": [
              "<Figure size 640x480 with 1 Axes>"
            ],
            "image/png": "[encoded data removed]"
          },
          "metadata": {}
        }
      ]
    },
    {
      "cell_type": "markdown",
      "source": [
        "### Visualize the Regression line on the train and test data"
      ],
      "metadata": {
        "id": "2r-FCb2out2I"
      }
    },
    {
      "cell_type": "code",
      "source": [
        "y_pred_train = lin_reg.predict(X_train)\n",
        "y_pred_test = lin_reg.predict(X_test)\n",
        "\n",
        "\n",
        "plt.scatter(X,y)\n",
        "plt.plot(X_train,y_pred_train,color='red')\n",
        "plt.plot(X_test,y_pred_test,color='green')\n",
        "plt.legend(['data','train','test'])\n",
        "plt.show()\n"
      ],
      "metadata": {
        "colab": {
          "base_uri": "https://localhost:8080/",
          "height": 430
        },
        "id": "ErOn3b72gFkM",
        "outputId": "d97a23e9-80d0-49e5-c4dc-5f35242b6a7f"
      },
      "execution_count": 144,
      "outputs": [
        {
          "output_type": "display_data",
          "data": {
            "text/plain": [
              "<Figure size 640x480 with 1 Axes>"
            ],
            "image/png": "[encoded data removed]"
          },
          "metadata": {}
        }
      ]
    },
    {
      "cell_type": "markdown",
      "source": [
        "# 2.Multivariable Linear Regression\n",
        "\n",
        "## 2.1 Encode categorical(non continuous) variable"
      ],
      "metadata": {
        "id": "h2qJiUHFKvIv"
      }
    },
    {
      "cell_type": "code",
      "source": [
        "df.head()"
      ],
      "metadata": {
        "colab": {
          "base_uri": "https://localhost:8080/",
          "height": 206
        },
        "id": "uo7VPHrjsY0z",
        "outputId": "76841ddc-a9fc-464a-b824-ece2b565a0b9"
      },
      "execution_count": 145,
      "outputs": [
        {
          "output_type": "execute_result",
          "data": {
            "text/plain": [
              "    age     sex    bmi  children smoker     region     charges\n",
              "0    19  female  27.90         0    yes  southwest  16884.9240\n",
              "11   62  female  26.29         0    yes  southeast  27808.7251\n",
              "14   27    male  42.13         0    yes  southeast  39611.7577\n",
              "19   30    male  35.30         0    yes  southwest  36837.4670\n",
              "23   34  female  31.92         1    yes  northeast  37701.8768"
            ],
            "text/html": [
              "\n",
              "  <div id=\"df-49bca456-36d9-44c3-9040-1ab7948a2b0c\" class=\"colab-df-container\">\n",
              "    <div>\n",
              "<style scoped>\n",
              "    .dataframe tbody tr th:only-of-type {\n",
              "        vertical-align: middle;\n",
              "    }\n",
              "\n",
              "    .dataframe tbody tr th {\n",
              "        vertical-align: top;\n",
              "    }\n",
              "\n",
              "    .dataframe thead th {\n",
              "        text-align: right;\n",
              "    }\n",
              "</style>\n",
              "<table border=\"1\" class=\"dataframe\">\n",
              "  <thead>\n",
              "    <tr style=\"text-align: right;\">\n",
              "      <th></th>\n",
              "      <th>age</th>\n",
              "      <th>sex</th>\n",
              "      <th>bmi</th>\n",
              "      <th>children</th>\n",
              "      <th>smoker</th>\n",
              "      <th>region</th>\n",
              "      <th>charges</th>\n",
              "    </tr>\n",
              "  </thead>\n",
              "  <tbody>\n",
              "    <tr>\n",
              "      <th>0</th>\n",
              "      <td>19</td>\n",
              "      <td>female</td>\n",
              "      <td>27.90</td>\n",
              "      <td>0</td>\n",
              "      <td>yes</td>\n",
              "      <td>southwest</td>\n",
              "      <td>16884.9240</td>\n",
              "    </tr>\n",
              "    <tr>\n",
              "      <th>11</th>\n",
              "      <td>62</td>\n",
              "      <td>female</td>\n",
              "      <td>26.29</td>\n",
              "      <td>0</td>\n",
              "      <td>yes</td>\n",
              "      <td>southeast</td>\n",
              "      <td>27808.7251</td>\n",
              "    </tr>\n",
              "    <tr>\n",
              "      <th>14</th>\n",
              "      <td>27</td>\n",
              "      <td>male</td>\n",
              "      <td>42.13</td>\n",
              "      <td>0</td>\n",
              "      <td>yes</td>\n",
              "      <td>southeast</td>\n",
              "      <td>39611.7577</td>\n",
              "    </tr>\n",
              "    <tr>\n",
              "      <th>19</th>\n",
              "      <td>30</td>\n",
              "      <td>male</td>\n",
              "      <td>35.30</td>\n",
              "      <td>0</td>\n",
              "      <td>yes</td>\n",
              "      <td>southwest</td>\n",
              "      <td>36837.4670</td>\n",
              "    </tr>\n",
              "    <tr>\n",
              "      <th>23</th>\n",
              "      <td>34</td>\n",
              "      <td>female</td>\n",
              "      <td>31.92</td>\n",
              "      <td>1</td>\n",
              "      <td>yes</td>\n",
              "      <td>northeast</td>\n",
              "      <td>37701.8768</td>\n",
              "    </tr>\n",
              "  </tbody>\n",
              "</table>\n",
              "</div>\n",
              "    <div class=\"colab-df-buttons\">\n",
              "\n",
              "  <div class=\"colab-df-container\">\n",
              "    <button class=\"colab-df-convert\" onclick=\"convertToInteractive('df-49bca456-36d9-44c3-9040-1ab7948a2b0c')\"\n",
              "            title=\"Convert this dataframe to an interactive table.\"\n",
              "            style=\"display:none;\">\n",
              "\n",
              "  <svg xmlns=\"http://www.w3.org/2000/svg\" height=\"24px\" viewBox=\"0 -960 960 960\">\n",
              "    <path d=\"M120-120v-720h720v720H120Zm60-500h600v-160H180v160Zm220 220h160v-160H400v160Zm0 220h160v-160H400v160ZM180-400h160v-160H180v160Zm440 0h160v-160H620v160ZM180-180h160v-160H180v160Zm440 0h160v-160H620v160Z\"/>\n",
              "  </svg>\n",
              "    </button>\n",
              "\n",
              "  <style>\n",
              "    .colab-df-container {\n",
              "      display:flex;\n",
              "      gap: 12px;\n",
              "    }\n",
              "\n",
              "    .colab-df-convert {\n",
              "      background-color: #E8F0FE;\n",
              "      border: none;\n",
              "      border-radius: 50%;\n",
              "      cursor: pointer;\n",
              "      display: none;\n",
              "      fill: #1967D2;\n",
              "      height: 32px;\n",
              "      padding: 0 0 0 0;\n",
              "      width: 32px;\n",
              "    }\n",
              "\n",
              "    .colab-df-convert:hover {\n",
              "      background-color: #E2EBFA;\n",
              "      box-shadow: 0px 1px 2px rgba(60, 64, 67, 0.3), 0px 1px 3px 1px rgba(60, 64, 67, 0.15);\n",
              "      fill: #174EA6;\n",
              "    }\n",
              "\n",
              "    .colab-df-buttons div {\n",
              "      margin-bottom: 4px;\n",
              "    }\n",
              "\n",
              "    [theme=dark] .colab-df-convert {\n",
              "      background-color: #3B4455;\n",
              "      fill: #D2E3FC;\n",
              "    }\n",
              "\n",
              "    [theme=dark] .colab-df-convert:hover {\n",
              "      background-color: #434B5C;\n",
              "      box-shadow: 0px 1px 3px 1px rgba(0, 0, 0, 0.15);\n",
              "      filter: drop-shadow(0px 1px 2px rgba(0, 0, 0, 0.3));\n",
              "      fill: #FFFFFF;\n",
              "    }\n",
              "  </style>\n",
              "\n",
              "    <script>\n",
              "      const buttonEl =\n",
              "        document.querySelector('#df-49bca456-36d9-44c3-9040-1ab7948a2b0c button.colab-df-convert');\n",
              "      buttonEl.style.display =\n",
              "        google.colab.kernel.accessAllowed ? 'block' : 'none';\n",
              "\n",
              "      async function convertToInteractive(key) {\n",
              "        const element = document.querySelector('#df-49bca456-36d9-44c3-9040-1ab7948a2b0c');\n",
              "        const dataTable =\n",
              "          await google.colab.kernel.invokeFunction('convertToInteractive',\n",
              "                                                    [key], {});\n",
              "        if (!dataTable) return;\n",
              "\n",
              "        const docLinkHtml = 'Like what you see? Visit the ' +\n",
              "          '<a target=\"_blank\" href=https://colab.research.google.com/notebooks/data_table.ipynb>data table notebook</a>'\n",
              "          + ' to learn more about interactive tables.';\n",
              "        element.innerHTML = '';\n",
              "        dataTable['output_type'] = 'display_data';\n",
              "        await google.colab.output.renderOutput(dataTable, element);\n",
              "        const docLink = document.createElement('div');\n",
              "        docLink.innerHTML = docLinkHtml;\n",
              "        element.appendChild(docLink);\n",
              "      }\n",
              "    </script>\n",
              "  </div>\n",
              "\n",
              "\n",
              "<div id=\"df-9f772e4f-2414-46b8-a980-567edf877c84\">\n",
              "  <button class=\"colab-df-quickchart\" onclick=\"quickchart('df-9f772e4f-2414-46b8-a980-567edf877c84')\"\n",
              "            title=\"Suggest charts.\"\n",
              "            style=\"display:none;\">\n",
              "\n",
              "<svg xmlns=\"http://www.w3.org/2000/svg\" height=\"24px\"viewBox=\"0 0 24 24\"\n",
              "     width=\"24px\">\n",
              "    <g>\n",
              "        <path d=\"M19 3H5c-1.1 0-2 .9-2 2v14c0 1.1.9 2 2 2h14c1.1 0 2-.9 2-2V5c0-1.1-.9-2-2-2zM9 17H7v-7h2v7zm4 0h-2V7h2v10zm4 0h-2v-4h2v4z\"/>\n",
              "    </g>\n",
              "</svg>\n",
              "  </button>\n",
              "\n",
              "<style>\n",
              "  .colab-df-quickchart {\n",
              "      --bg-color: #E8F0FE;\n",
              "      --fill-color: #1967D2;\n",
              "      --hover-bg-color: #E2EBFA;\n",
              "      --hover-fill-color: #174EA6;\n",
              "      --disabled-fill-color: #AAA;\n",
              "      --disabled-bg-color: #DDD;\n",
              "  }\n",
              "\n",
              "  [theme=dark] .colab-df-quickchart {\n",
              "      --bg-color: #3B4455;\n",
              "      --fill-color: #D2E3FC;\n",
              "      --hover-bg-color: #434B5C;\n",
              "      --hover-fill-color: #FFFFFF;\n",
              "      --disabled-bg-color: #3B4455;\n",
              "      --disabled-fill-color: #666;\n",
              "  }\n",
              "\n",
              "  .colab-df-quickchart {\n",
              "    background-color: var(--bg-color);\n",
              "    border: none;\n",
              "    border-radius: 50%;\n",
              "    cursor: pointer;\n",
              "    display: none;\n",
              "    fill: var(--fill-color);\n",
              "    height: 32px;\n",
              "    padding: 0;\n",
              "    width: 32px;\n",
              "  }\n",
              "\n",
              "  .colab-df-quickchart:hover {\n",
              "    background-color: var(--hover-bg-color);\n",
              "    box-shadow: 0 1px 2px rgba(60, 64, 67, 0.3), 0 1px 3px 1px rgba(60, 64, 67, 0.15);\n",
              "    fill: var(--button-hover-fill-color);\n",
              "  }\n",
              "\n",
              "  .colab-df-quickchart-complete:disabled,\n",
              "  .colab-df-quickchart-complete:disabled:hover {\n",
              "    background-color: var(--disabled-bg-color);\n",
              "    fill: var(--disabled-fill-color);\n",
              "    box-shadow: none;\n",
              "  }\n",
              "\n",
              "  .colab-df-spinner {\n",
              "    border: 2px solid var(--fill-color);\n",
              "    border-color: transparent;\n",
              "    border-bottom-color: var(--fill-color);\n",
              "    animation:\n",
              "      spin 1s steps(1) infinite;\n",
              "  }\n",
              "\n",
              "  @keyframes spin {\n",
              "    0% {\n",
              "      border-color: transparent;\n",
              "      border-bottom-color: var(--fill-color);\n",
              "      border-left-color: var(--fill-color);\n",
              "    }\n",
              "    20% {\n",
              "      border-color: transparent;\n",
              "      border-left-color: var(--fill-color);\n",
              "      border-top-color: var(--fill-color);\n",
              "    }\n",
              "    30% {\n",
              "      border-color: transparent;\n",
              "      border-left-color: var(--fill-color);\n",
              "      border-top-color: var(--fill-color);\n",
              "      border-right-color: var(--fill-color);\n",
              "    }\n",
              "    40% {\n",
              "      border-color: transparent;\n",
              "      border-right-color: var(--fill-color);\n",
              "      border-top-color: var(--fill-color);\n",
              "    }\n",
              "    60% {\n",
              "      border-color: transparent;\n",
              "      border-right-color: var(--fill-color);\n",
              "    }\n",
              "    80% {\n",
              "      border-color: transparent;\n",
              "      border-right-color: var(--fill-color);\n",
              "      border-bottom-color: var(--fill-color);\n",
              "    }\n",
              "    90% {\n",
              "      border-color: transparent;\n",
              "      border-bottom-color: var(--fill-color);\n",
              "    }\n",
              "  }\n",
              "</style>\n",
              "\n",
              "  <script>\n",
              "    async function quickchart(key) {\n",
              "      const quickchartButtonEl =\n",
              "        document.querySelector('#' + key + ' button');\n",
              "      quickchartButtonEl.disabled = true;  // To prevent multiple clicks.\n",
              "      quickchartButtonEl.classList.add('colab-df-spinner');\n",
              "      try {\n",
              "        const charts = await google.colab.kernel.invokeFunction(\n",
              "            'suggestCharts', [key], {});\n",
              "      } catch (error) {\n",
              "        console.error('Error during call to suggestCharts:', error);\n",
              "      }\n",
              "      quickchartButtonEl.classList.remove('colab-df-spinner');\n",
              "      quickchartButtonEl.classList.add('colab-df-quickchart-complete');\n",
              "    }\n",
              "    (() => {\n",
              "      let quickchartButtonEl =\n",
              "        document.querySelector('#df-9f772e4f-2414-46b8-a980-567edf877c84 button');\n",
              "      quickchartButtonEl.style.display =\n",
              "        google.colab.kernel.accessAllowed ? 'block' : 'none';\n",
              "    })();\n",
              "  </script>\n",
              "</div>\n",
              "    </div>\n",
              "  </div>\n"
            ]
          },
          "metadata": {},
          "execution_count": 145
        }
      ]
    },
    {
      "cell_type": "markdown",
      "source": [
        " ### One Hot Encoding (OHE)\n",
        "\n",
        " * There are other encoding methods as well..."
      ],
      "metadata": {
        "id": "Ywi9Hf2OsqMk"
      }
    },
    {
      "cell_type": "code",
      "source": [
        "from sklearn.model_selection import train_test_split\n",
        "from sklearn.linear_model import LinearRegression\n",
        "\n",
        "\n",
        "# Dummy variable\n",
        "categorical_columns = ['sex','children', 'smoker', 'region']\n",
        "df_encode = pd.get_dummies(data = df, prefix = 'OHE', prefix_sep='_',\n",
        "               columns = categorical_columns,\n",
        "               drop_first =True,\n",
        "              dtype='int8')\n",
        "\n",
        "df_encode.head()\n",
        "\n"
      ],
      "metadata": {
        "colab": {
          "base_uri": "https://localhost:8080/",
          "height": 206
        },
        "id": "k_2OXaMPKu5n",
        "outputId": "ffca6c8b-211a-4f7a-b135-679342796899"
      },
      "execution_count": 146,
      "outputs": [
        {
          "output_type": "execute_result",
          "data": {
            "text/plain": [
              "    age    bmi     charges  OHE_male  OHE_1  OHE_2  OHE_3  OHE_4  OHE_5  \\\n",
              "0    19  27.90  16884.9240         0      0      0      0      0      0   \n",
              "11   62  26.29  27808.7251         0      0      0      0      0      0   \n",
              "14   27  42.13  39611.7577         1      0      0      0      0      0   \n",
              "19   30  35.30  36837.4670         1      0      0      0      0      0   \n",
              "23   34  31.92  37701.8768         0      1      0      0      0      0   \n",
              "\n",
              "    OHE_northwest  OHE_southeast  OHE_southwest  \n",
              "0               0              0              1  \n",
              "11              0              1              0  \n",
              "14              0              1              0  \n",
              "19              0              0              1  \n",
              "23              0              0              0  "
            ],
            "text/html": [
              "\n",
              "  <div id=\"df-fafdd9a2-e79e-42c4-88f5-83379cada992\" class=\"colab-df-container\">\n",
              "    <div>\n",
              "<style scoped>\n",
              "    .dataframe tbody tr th:only-of-type {\n",
              "        vertical-align: middle;\n",
              "    }\n",
              "\n",
              "    .dataframe tbody tr th {\n",
              "        vertical-align: top;\n",
              "    }\n",
              "\n",
              "    .dataframe thead th {\n",
              "        text-align: right;\n",
              "    }\n",
              "</style>\n",
              "<table border=\"1\" class=\"dataframe\">\n",
              "  <thead>\n",
              "    <tr style=\"text-align: right;\">\n",
              "      <th></th>\n",
              "      <th>age</th>\n",
              "      <th>bmi</th>\n",
              "      <th>charges</th>\n",
              "      <th>OHE_male</th>\n",
              "      <th>OHE_1</th>\n",
              "      <th>OHE_2</th>\n",
              "      <th>OHE_3</th>\n",
              "      <th>OHE_4</th>\n",
              "      <th>OHE_5</th>\n",
              "      <th>OHE_northwest</th>\n",
              "      <th>OHE_southeast</th>\n",
              "      <th>OHE_southwest</th>\n",
              "    </tr>\n",
              "  </thead>\n",
              "  <tbody>\n",
              "    <tr>\n",
              "      <th>0</th>\n",
              "      <td>19</td>\n",
              "      <td>27.90</td>\n",
              "      <td>16884.9240</td>\n",
              "      <td>0</td>\n",
              "      <td>0</td>\n",
              "      <td>0</td>\n",
              "      <td>0</td>\n",
              "      <td>0</td>\n",
              "      <td>0</td>\n",
              "      <td>0</td>\n",
              "      <td>0</td>\n",
              "      <td>1</td>\n",
              "    </tr>\n",
              "    <tr>\n",
              "      <th>11</th>\n",
              "      <td>62</td>\n",
              "      <td>26.29</td>\n",
              "      <td>27808.7251</td>\n",
              "      <td>0</td>\n",
              "      <td>0</td>\n",
              "      <td>0</td>\n",
              "      <td>0</td>\n",
              "      <td>0</td>\n",
              "      <td>0</td>\n",
              "      <td>0</td>\n",
              "      <td>1</td>\n",
              "      <td>0</td>\n",
              "    </tr>\n",
              "    <tr>\n",
              "      <th>14</th>\n",
              "      <td>27</td>\n",
              "      <td>42.13</td>\n",
              "      <td>39611.7577</td>\n",
              "      <td>1</td>\n",
              "      <td>0</td>\n",
              "      <td>0</td>\n",
              "      <td>0</td>\n",
              "      <td>0</td>\n",
              "      <td>0</td>\n",
              "      <td>0</td>\n",
              "      <td>1</td>\n",
              "      <td>0</td>\n",
              "    </tr>\n",
              "    <tr>\n",
              "      <th>19</th>\n",
              "      <td>30</td>\n",
              "      <td>35.30</td>\n",
              "      <td>36837.4670</td>\n",
              "      <td>1</td>\n",
              "      <td>0</td>\n",
              "      <td>0</td>\n",
              "      <td>0</td>\n",
              "      <td>0</td>\n",
              "      <td>0</td>\n",
              "      <td>0</td>\n",
              "      <td>0</td>\n",
              "      <td>1</td>\n",
              "    </tr>\n",
              "    <tr>\n",
              "      <th>23</th>\n",
              "      <td>34</td>\n",
              "      <td>31.92</td>\n",
              "      <td>37701.8768</td>\n",
              "      <td>0</td>\n",
              "      <td>1</td>\n",
              "      <td>0</td>\n",
              "      <td>0</td>\n",
              "      <td>0</td>\n",
              "      <td>0</td>\n",
              "      <td>0</td>\n",
              "      <td>0</td>\n",
              "      <td>0</td>\n",
              "    </tr>\n",
              "  </tbody>\n",
              "</table>\n",
              "</div>\n",
              "    <div class=\"colab-df-buttons\">\n",
              "\n",
              "  <div class=\"colab-df-container\">\n",
              "    <button class=\"colab-df-convert\" onclick=\"convertToInteractive('df-fafdd9a2-e79e-42c4-88f5-83379cada992')\"\n",
              "            title=\"Convert this dataframe to an interactive table.\"\n",
              "            style=\"display:none;\">\n",
              "\n",
              "  <svg xmlns=\"http://www.w3.org/2000/svg\" height=\"24px\" viewBox=\"0 -960 960 960\">\n",
              "    <path d=\"M120-120v-720h720v720H120Zm60-500h600v-160H180v160Zm220 220h160v-160H400v160Zm0 220h160v-160H400v160ZM180-400h160v-160H180v160Zm440 0h160v-160H620v160ZM180-180h160v-160H180v160Zm440 0h160v-160H620v160Z\"/>\n",
              "  </svg>\n",
              "    </button>\n",
              "\n",
              "  <style>\n",
              "    .colab-df-container {\n",
              "      display:flex;\n",
              "      gap: 12px;\n",
              "    }\n",
              "\n",
              "    .colab-df-convert {\n",
              "      background-color: #E8F0FE;\n",
              "      border: none;\n",
              "      border-radius: 50%;\n",
              "      cursor: pointer;\n",
              "      display: none;\n",
              "      fill: #1967D2;\n",
              "      height: 32px;\n",
              "      padding: 0 0 0 0;\n",
              "      width: 32px;\n",
              "    }\n",
              "\n",
              "    .colab-df-convert:hover {\n",
              "      background-color: #E2EBFA;\n",
              "      box-shadow: 0px 1px 2px rgba(60, 64, 67, 0.3), 0px 1px 3px 1px rgba(60, 64, 67, 0.15);\n",
              "      fill: #174EA6;\n",
              "    }\n",
              "\n",
              "    .colab-df-buttons div {\n",
              "      margin-bottom: 4px;\n",
              "    }\n",
              "\n",
              "    [theme=dark] .colab-df-convert {\n",
              "      background-color: #3B4455;\n",
              "      fill: #D2E3FC;\n",
              "    }\n",
              "\n",
              "    [theme=dark] .colab-df-convert:hover {\n",
              "      background-color: #434B5C;\n",
              "      box-shadow: 0px 1px 3px 1px rgba(0, 0, 0, 0.15);\n",
              "      filter: drop-shadow(0px 1px 2px rgba(0, 0, 0, 0.3));\n",
              "      fill: #FFFFFF;\n",
              "    }\n",
              "  </style>\n",
              "\n",
              "    <script>\n",
              "      const buttonEl =\n",
              "        document.querySelector('#df-fafdd9a2-e79e-42c4-88f5-83379cada992 button.colab-df-convert');\n",
              "      buttonEl.style.display =\n",
              "        google.colab.kernel.accessAllowed ? 'block' : 'none';\n",
              "\n",
              "      async function convertToInteractive(key) {\n",
              "        const element = document.querySelector('#df-fafdd9a2-e79e-42c4-88f5-83379cada992');\n",
              "        const dataTable =\n",
              "          await google.colab.kernel.invokeFunction('convertToInteractive',\n",
              "                                                    [key], {});\n",
              "        if (!dataTable) return;\n",
              "\n",
              "        const docLinkHtml = 'Like what you see? Visit the ' +\n",
              "          '<a target=\"_blank\" href=https://colab.research.google.com/notebooks/data_table.ipynb>data table notebook</a>'\n",
              "          + ' to learn more about interactive tables.';\n",
              "        element.innerHTML = '';\n",
              "        dataTable['output_type'] = 'display_data';\n",
              "        await google.colab.output.renderOutput(dataTable, element);\n",
              "        const docLink = document.createElement('div');\n",
              "        docLink.innerHTML = docLinkHtml;\n",
              "        element.appendChild(docLink);\n",
              "      }\n",
              "    </script>\n",
              "  </div>\n",
              "\n",
              "\n",
              "<div id=\"df-e43bd6e7-1c25-42fd-9440-6cf83b52d01d\">\n",
              "  <button class=\"colab-df-quickchart\" onclick=\"quickchart('df-e43bd6e7-1c25-42fd-9440-6cf83b52d01d')\"\n",
              "            title=\"Suggest charts.\"\n",
              "            style=\"display:none;\">\n",
              "\n",
              "<svg xmlns=\"http://www.w3.org/2000/svg\" height=\"24px\"viewBox=\"0 0 24 24\"\n",
              "     width=\"24px\">\n",
              "    <g>\n",
              "        <path d=\"M19 3H5c-1.1 0-2 .9-2 2v14c0 1.1.9 2 2 2h14c1.1 0 2-.9 2-2V5c0-1.1-.9-2-2-2zM9 17H7v-7h2v7zm4 0h-2V7h2v10zm4 0h-2v-4h2v4z\"/>\n",
              "    </g>\n",
              "</svg>\n",
              "  </button>\n",
              "\n",
              "<style>\n",
              "  .colab-df-quickchart {\n",
              "      --bg-color: #E8F0FE;\n",
              "      --fill-color: #1967D2;\n",
              "      --hover-bg-color: #E2EBFA;\n",
              "      --hover-fill-color: #174EA6;\n",
              "      --disabled-fill-color: #AAA;\n",
              "      --disabled-bg-color: #DDD;\n",
              "  }\n",
              "\n",
              "  [theme=dark] .colab-df-quickchart {\n",
              "      --bg-color: #3B4455;\n",
              "      --fill-color: #D2E3FC;\n",
              "      --hover-bg-color: #434B5C;\n",
              "      --hover-fill-color: #FFFFFF;\n",
              "      --disabled-bg-color: #3B4455;\n",
              "      --disabled-fill-color: #666;\n",
              "  }\n",
              "\n",
              "  .colab-df-quickchart {\n",
              "    background-color: var(--bg-color);\n",
              "    border: none;\n",
              "    border-radius: 50%;\n",
              "    cursor: pointer;\n",
              "    display: none;\n",
              "    fill: var(--fill-color);\n",
              "    height: 32px;\n",
              "    padding: 0;\n",
              "    width: 32px;\n",
              "  }\n",
              "\n",
              "  .colab-df-quickchart:hover {\n",
              "    background-color: var(--hover-bg-color);\n",
              "    box-shadow: 0 1px 2px rgba(60, 64, 67, 0.3), 0 1px 3px 1px rgba(60, 64, 67, 0.15);\n",
              "    fill: var(--button-hover-fill-color);\n",
              "  }\n",
              "\n",
              "  .colab-df-quickchart-complete:disabled,\n",
              "  .colab-df-quickchart-complete:disabled:hover {\n",
              "    background-color: var(--disabled-bg-color);\n",
              "    fill: var(--disabled-fill-color);\n",
              "    box-shadow: none;\n",
              "  }\n",
              "\n",
              "  .colab-df-spinner {\n",
              "    border: 2px solid var(--fill-color);\n",
              "    border-color: transparent;\n",
              "    border-bottom-color: var(--fill-color);\n",
              "    animation:\n",
              "      spin 1s steps(1) infinite;\n",
              "  }\n",
              "\n",
              "  @keyframes spin {\n",
              "    0% {\n",
              "      border-color: transparent;\n",
              "      border-bottom-color: var(--fill-color);\n",
              "      border-left-color: var(--fill-color);\n",
              "    }\n",
              "    20% {\n",
              "      border-color: transparent;\n",
              "      border-left-color: var(--fill-color);\n",
              "      border-top-color: var(--fill-color);\n",
              "    }\n",
              "    30% {\n",
              "      border-color: transparent;\n",
              "      border-left-color: var(--fill-color);\n",
              "      border-top-color: var(--fill-color);\n",
              "      border-right-color: var(--fill-color);\n",
              "    }\n",
              "    40% {\n",
              "      border-color: transparent;\n",
              "      border-right-color: var(--fill-color);\n",
              "      border-top-color: var(--fill-color);\n",
              "    }\n",
              "    60% {\n",
              "      border-color: transparent;\n",
              "      border-right-color: var(--fill-color);\n",
              "    }\n",
              "    80% {\n",
              "      border-color: transparent;\n",
              "      border-right-color: var(--fill-color);\n",
              "      border-bottom-color: var(--fill-color);\n",
              "    }\n",
              "    90% {\n",
              "      border-color: transparent;\n",
              "      border-bottom-color: var(--fill-color);\n",
              "    }\n",
              "  }\n",
              "</style>\n",
              "\n",
              "  <script>\n",
              "    async function quickchart(key) {\n",
              "      const quickchartButtonEl =\n",
              "        document.querySelector('#' + key + ' button');\n",
              "      quickchartButtonEl.disabled = true;  // To prevent multiple clicks.\n",
              "      quickchartButtonEl.classList.add('colab-df-spinner');\n",
              "      try {\n",
              "        const charts = await google.colab.kernel.invokeFunction(\n",
              "            'suggestCharts', [key], {});\n",
              "      } catch (error) {\n",
              "        console.error('Error during call to suggestCharts:', error);\n",
              "      }\n",
              "      quickchartButtonEl.classList.remove('colab-df-spinner');\n",
              "      quickchartButtonEl.classList.add('colab-df-quickchart-complete');\n",
              "    }\n",
              "    (() => {\n",
              "      let quickchartButtonEl =\n",
              "        document.querySelector('#df-e43bd6e7-1c25-42fd-9440-6cf83b52d01d button');\n",
              "      quickchartButtonEl.style.display =\n",
              "        google.colab.kernel.accessAllowed ? 'block' : 'none';\n",
              "    })();\n",
              "  </script>\n",
              "</div>\n",
              "    </div>\n",
              "  </div>\n"
            ]
          },
          "metadata": {},
          "execution_count": 146
        }
      ]
    },
    {
      "cell_type": "markdown",
      "source": [
        "# 2.2 Prepare train and test dataset"
      ],
      "metadata": {
        "id": "aMJLnBtmsyRM"
      }
    },
    {
      "cell_type": "code",
      "source": [
        "# Prepare the training and testing dataset\n",
        "X = df_encode.drop('charges',axis=1) # Independant variable\n",
        "y = df_encode['charges'] # dependant variable\n",
        "\n",
        "X_train, X_test, y_train, y_test = train_test_split(X,y,test_size=0.3,random_state=23)"
      ],
      "metadata": {
        "id": "ICdnTKJ9NA3c"
      },
      "execution_count": 147,
      "outputs": []
    },
    {
      "cell_type": "markdown",
      "source": [
        "## 2.3 Train the model on train data"
      ],
      "metadata": {
        "id": "jxM6zzcbtIJk"
      }
    },
    {
      "cell_type": "code",
      "source": [
        "# Train the model on train data\n",
        "lin_reg = LinearRegression()\n",
        "lin_reg.fit(X_train,y_train) # Note: x_0 =1 is no need to add, sklearn will take care of it.\n",
        "\n",
        "print(f'--Parameters---')\n",
        "for i, parameter in enumerate(lin_reg.coef_):\n",
        "  print(f'theta_{i+1}: {parameter}')\n",
        "\n",
        "print(f'Intercept theta_0: {lin_reg.intercept_}')"
      ],
      "metadata": {
        "colab": {
          "base_uri": "https://localhost:8080/"
        },
        "id": "qEzoOgz1tHb1",
        "outputId": "1e6e9a87-f520-414b-cee0-2f5ba10ffb2c"
      },
      "execution_count": 152,
      "outputs": [
        {
          "output_type": "stream",
          "name": "stdout",
          "text": [
            "--Parameters---\n",
            "theta_1: 268.390754726272\n",
            "theta_2: 1445.3739065217167\n",
            "theta_3: 435.7438086705513\n",
            "theta_4: -1548.098711118638\n",
            "theta_5: -270.59680734402986\n",
            "theta_6: -289.15648293636895\n",
            "theta_7: -4511.85907514598\n",
            "theta_8: 4639.2397254421385\n",
            "theta_9: -1275.0788367595896\n",
            "theta_10: -3019.42591999898\n",
            "theta_11: -1894.2838184477027\n",
            "Intercept theta_0: -20639.27783066655\n"
          ]
        }
      ]
    },
    {
      "cell_type": "markdown",
      "source": [
        "## 2.3 Evaluate the model on test data"
      ],
      "metadata": {
        "id": "WCYoKtXVu1h0"
      }
    },
    {
      "cell_type": "code",
      "source": [
        "print(f'R2 score {lin_reg.score(X_test,y_test)}') # we want R2 score to be close to 1 (Better accuracy)"
      ],
      "metadata": {
        "colab": {
          "base_uri": "https://localhost:8080/"
        },
        "id": "pBU9akE1tMYw",
        "outputId": "d588217f-5935-42d8-be7b-a29399efb378"
      },
      "execution_count": 149,
      "outputs": [
        {
          "output_type": "stream",
          "name": "stdout",
          "text": [
            "R2 score 0.7872912334174366\n"
          ]
        }
      ]
    }
  ]
}